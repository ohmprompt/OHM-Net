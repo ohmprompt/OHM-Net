{
 "cells": [
  {
   "cell_type": "code",
   "execution_count": null,
   "id": "7f564601-8fbf-47e1-bbec-73b4ea6a3020",
   "metadata": {},
   "outputs": [],
   "source": [
    "%run GMM.py"
   ]
  },
  {
   "cell_type": "code",
   "execution_count": null,
   "id": "a2c4d445-85f9-48b5-afad-d622451da49d",
   "metadata": {},
   "outputs": [],
   "source": []
  },
  {
   "cell_type": "code",
   "execution_count": null,
   "id": "6b29dab7-c37c-4388-b676-ca6d0a3d4a25",
   "metadata": {},
   "outputs": [],
   "source": []
  }
 ],
 "metadata": {
  "kernelspec": {
   "display_name": "Python 3 (ipykernel)",
   "language": "python",
   "name": "python3"
  },
  "language_info": {
   "codemirror_mode": {
    "name": "ipython",
    "version": 3
   },
   "file_extension": ".py",
   "mimetype": "text/x-python",
   "name": "python",
   "nbconvert_exporter": "python",
   "pygments_lexer": "ipython3",
   "version": "3.9.13"
  }
 },
 "nbformat": 4,
 "nbformat_minor": 5
}
